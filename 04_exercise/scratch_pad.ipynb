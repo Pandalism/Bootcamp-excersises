{
 "cells": [
  {
   "cell_type": "code",
   "execution_count": 1,
   "metadata": {},
   "outputs": [],
   "source": [
    "import pandas as pd\n",
    "import numpy as np\n",
    "import seaborn as sns\n",
    "import matplotlib.pyplot as plt"
   ]
  },
  {
   "cell_type": "code",
   "execution_count": 2,
   "metadata": {},
   "outputs": [],
   "source": [
    "df = pd.read_csv(\"data/london_smartmeter_basic.csv\")"
   ]
  },
  {
   "cell_type": "code",
   "execution_count": 3,
   "metadata": {},
   "outputs": [
    {
     "data": {
      "text/plain": [
       "(827, 3)"
      ]
     },
     "execution_count": 3,
     "metadata": {},
     "output_type": "execute_result"
    }
   ],
   "source": [
    "df.shape"
   ]
  },
  {
   "cell_type": "code",
   "execution_count": 4,
   "metadata": {},
   "outputs": [
    {
     "data": {
      "text/html": [
       "<div>\n",
       "<style scoped>\n",
       "    .dataframe tbody tr th:only-of-type {\n",
       "        vertical-align: middle;\n",
       "    }\n",
       "\n",
       "    .dataframe tbody tr th {\n",
       "        vertical-align: top;\n",
       "    }\n",
       "\n",
       "    .dataframe thead th {\n",
       "        text-align: right;\n",
       "    }\n",
       "</style>\n",
       "<table border=\"1\" class=\"dataframe\">\n",
       "  <thead>\n",
       "    <tr style=\"text-align: right;\">\n",
       "      <th></th>\n",
       "      <th>day</th>\n",
       "      <th>consumption</th>\n",
       "      <th>evaluation_set</th>\n",
       "    </tr>\n",
       "  </thead>\n",
       "  <tbody>\n",
       "    <tr>\n",
       "      <th>0</th>\n",
       "      <td>2011-11-24</td>\n",
       "      <td>7.7580</td>\n",
       "      <td>False</td>\n",
       "    </tr>\n",
       "    <tr>\n",
       "      <th>1</th>\n",
       "      <td>2011-11-25</td>\n",
       "      <td>8.7385</td>\n",
       "      <td>False</td>\n",
       "    </tr>\n",
       "    <tr>\n",
       "      <th>2</th>\n",
       "      <td>2011-11-26</td>\n",
       "      <td>9.4770</td>\n",
       "      <td>False</td>\n",
       "    </tr>\n",
       "    <tr>\n",
       "      <th>3</th>\n",
       "      <td>2011-11-27</td>\n",
       "      <td>9.8030</td>\n",
       "      <td>False</td>\n",
       "    </tr>\n",
       "    <tr>\n",
       "      <th>4</th>\n",
       "      <td>2011-11-28</td>\n",
       "      <td>7.0690</td>\n",
       "      <td>False</td>\n",
       "    </tr>\n",
       "  </tbody>\n",
       "</table>\n",
       "</div>"
      ],
      "text/plain": [
       "          day  consumption  evaluation_set\n",
       "0  2011-11-24       7.7580           False\n",
       "1  2011-11-25       8.7385           False\n",
       "2  2011-11-26       9.4770           False\n",
       "3  2011-11-27       9.8030           False\n",
       "4  2011-11-28       7.0690           False"
      ]
     },
     "execution_count": 4,
     "metadata": {},
     "output_type": "execute_result"
    }
   ],
   "source": [
    "df.head()"
   ]
  },
  {
   "cell_type": "markdown",
   "metadata": {},
   "source": [
    "### Preprocess section"
   ]
  },
  {
   "cell_type": "code",
   "execution_count": 10,
   "metadata": {},
   "outputs": [],
   "source": [
    "# reindex to day\n",
    "df.set_index(pd.to_datetime(df.day), inplace=True)\n",
    "df.drop(['day'],axis=1, inplace=True)\n",
    "\n",
    "# split into train and eval\n",
    "ts_eval = df.loc[df.evaluation_set]\n",
    "ts = df.loc[~df.evaluation_set]"
   ]
  },
  {
   "cell_type": "code",
   "execution_count": 11,
   "metadata": {},
   "outputs": [
    {
     "name": "stderr",
     "output_type": "stream",
     "text": [
      "C:\\Programs\\Miniconda3\\envs\\ADS04\\lib\\site-packages\\pandas\\core\\frame.py:3997: SettingWithCopyWarning: \n",
      "A value is trying to be set on a copy of a slice from a DataFrame\n",
      "\n",
      "See the caveats in the documentation: https://pandas.pydata.org/pandas-docs/stable/user_guide/indexing.html#returning-a-view-versus-a-copy\n",
      "  errors=errors,\n"
     ]
    },
    {
     "data": {
      "text/html": [
       "<div>\n",
       "<style scoped>\n",
       "    .dataframe tbody tr th:only-of-type {\n",
       "        vertical-align: middle;\n",
       "    }\n",
       "\n",
       "    .dataframe tbody tr th {\n",
       "        vertical-align: top;\n",
       "    }\n",
       "\n",
       "    .dataframe thead th {\n",
       "        text-align: right;\n",
       "    }\n",
       "</style>\n",
       "<table border=\"1\" class=\"dataframe\">\n",
       "  <thead>\n",
       "    <tr style=\"text-align: right;\">\n",
       "      <th></th>\n",
       "      <th>consumption</th>\n",
       "    </tr>\n",
       "    <tr>\n",
       "      <th>day</th>\n",
       "      <th></th>\n",
       "    </tr>\n",
       "  </thead>\n",
       "  <tbody>\n",
       "    <tr>\n",
       "      <th>2011-11-24</th>\n",
       "      <td>7.7580</td>\n",
       "    </tr>\n",
       "    <tr>\n",
       "      <th>2011-11-25</th>\n",
       "      <td>8.7385</td>\n",
       "    </tr>\n",
       "    <tr>\n",
       "      <th>2011-11-26</th>\n",
       "      <td>9.4770</td>\n",
       "    </tr>\n",
       "    <tr>\n",
       "      <th>2011-11-27</th>\n",
       "      <td>9.8030</td>\n",
       "    </tr>\n",
       "    <tr>\n",
       "      <th>2011-11-28</th>\n",
       "      <td>7.0690</td>\n",
       "    </tr>\n",
       "  </tbody>\n",
       "</table>\n",
       "</div>"
      ],
      "text/plain": [
       "            consumption\n",
       "day                    \n",
       "2011-11-24       7.7580\n",
       "2011-11-25       8.7385\n",
       "2011-11-26       9.4770\n",
       "2011-11-27       9.8030\n",
       "2011-11-28       7.0690"
      ]
     },
     "execution_count": 11,
     "metadata": {},
     "output_type": "execute_result"
    }
   ],
   "source": [
    "ts.drop(['evaluation_set'], axis=1, inplace=True)\n",
    "ts_eval.drop(['evaluation_set'], axis=1, inplace=True)\n",
    "ts.head()"
   ]
  },
  {
   "cell_type": "markdown",
   "metadata": {},
   "source": [
    "### Model fit"
   ]
  },
  {
   "cell_type": "code",
   "execution_count": 12,
   "metadata": {},
   "outputs": [],
   "source": [
    "from statsmodels.api import tsa"
   ]
  },
  {
   "cell_type": "code",
   "execution_count": 21,
   "metadata": {},
   "outputs": [
    {
     "name": "stderr",
     "output_type": "stream",
     "text": [
      "C:\\Programs\\Miniconda3\\envs\\ADS04\\lib\\site-packages\\statsmodels\\tsa\\ar_model.py:691: FutureWarning: \n",
      "statsmodels.tsa.AR has been deprecated in favor of statsmodels.tsa.AutoReg and\n",
      "statsmodels.tsa.SARIMAX.\n",
      "\n",
      "AutoReg adds the ability to specify exogenous variables, include time trends,\n",
      "and add seasonal dummies. The AutoReg API differs from AR since the model is\n",
      "treated as immutable, and so the entire specification including the lag\n",
      "length must be specified when creating the model. This change is too\n",
      "substantial to incorporate into the existing AR api. The function\n",
      "ar_select_order performs lag length selection for AutoReg models.\n",
      "\n",
      "AutoReg only estimates parameters using conditional MLE (OLS). Use SARIMAX to\n",
      "estimate ARX and related models using full MLE via the Kalman Filter.\n",
      "\n",
      "To silence this warning and continue using AR until it is removed, use:\n",
      "\n",
      "import warnings\n",
      "warnings.filterwarnings('ignore', 'statsmodels.tsa.ar_model.AR', FutureWarning)\n",
      "\n",
      "  warnings.warn(AR_DEPRECATION_WARN, FutureWarning)\n",
      "C:\\Programs\\Miniconda3\\envs\\ADS04\\lib\\site-packages\\statsmodels\\tsa\\base\\tsa_model.py:162: ValueWarning: No frequency information was provided, so inferred frequency D will be used.\n",
      "  % freq, ValueWarning)\n"
     ]
    }
   ],
   "source": [
    "ar_model = tsa.AR(ts).fit()"
   ]
  },
  {
   "cell_type": "code",
   "execution_count": 26,
   "metadata": {
    "scrolled": true
   },
   "outputs": [
    {
     "data": {
      "text/plain": [
       "Timestamp('2014-02-01 00:00:00')"
      ]
     },
     "execution_count": 26,
     "metadata": {},
     "output_type": "execute_result"
    }
   ],
   "source": [
    "ts_eval.index[0]"
   ]
  },
  {
   "cell_type": "code",
   "execution_count": 30,
   "metadata": {},
   "outputs": [
    {
     "data": {
      "text/plain": [
       "2014-02-01    9.115843\n",
       "2014-02-02    9.132325\n",
       "2014-02-03    8.835297\n",
       "2014-02-04    8.683259\n",
       "2014-02-05    8.712915\n",
       "2014-02-06    8.827649\n",
       "2014-02-07    8.751074\n",
       "2014-02-08    8.907920\n",
       "2014-02-09    9.276761\n",
       "2014-02-10    8.855422\n",
       "2014-02-11    8.604217\n",
       "2014-02-12    8.744304\n",
       "2014-02-13    8.708318\n",
       "2014-02-14    8.728063\n",
       "2014-02-15    8.955988\n",
       "2014-02-16    9.043761\n",
       "2014-02-17    8.776074\n",
       "2014-02-18    8.612240\n",
       "2014-02-19    8.654877\n",
       "2014-02-20    8.719756\n",
       "2014-02-21    8.715070\n",
       "2014-02-22    8.836754\n",
       "2014-02-23    8.996384\n",
       "2014-02-24    8.745359\n",
       "2014-02-25    8.571278\n",
       "2014-02-26    8.649388\n",
       "2014-02-27    8.653052\n",
       "Freq: D, dtype: float64"
      ]
     },
     "execution_count": 30,
     "metadata": {},
     "output_type": "execute_result"
    }
   ],
   "source": [
    "predict_ar = ar_model.predict(start=ts_eval.index[0], end= ts_eval.index[-1])\n",
    "predict_ar"
   ]
  },
  {
   "cell_type": "code",
   "execution_count": 32,
   "metadata": {},
   "outputs": [
    {
     "data": {
      "text/plain": [
       "array([  0,  10,  20,  30,  40,  50,  60,  70,  80,  90, 100, 110, 120,\n",
       "       130, 140, 150, 160, 170, 180, 190, 200, 210, 220, 230, 240, 250,\n",
       "       260, 270, 280, 290, 300, 310, 320, 330, 340, 350, 360, 370, 380,\n",
       "       390, 400, 410, 420, 430, 440, 450, 460, 470, 480, 490, 500, 510,\n",
       "       520, 530, 540, 550, 560, 570, 580, 590, 600, 610, 620, 630, 640,\n",
       "       650, 660, 670, 680, 690, 700, 710, 720, 730, 740, 750, 760, 770,\n",
       "       780, 790])"
      ]
     },
     "execution_count": 32,
     "metadata": {},
     "output_type": "execute_result"
    }
   ],
   "source": [
    "decimate = np.arange(0,ts.shape[0],10)"
   ]
  },
  {
   "cell_type": "code",
   "execution_count": null,
   "metadata": {},
   "outputs": [],
   "source": []
  },
  {
   "cell_type": "code",
   "execution_count": 36,
   "metadata": {},
   "outputs": [
    {
     "data": {
      "text/html": [
       "<div>\n",
       "<style scoped>\n",
       "    .dataframe tbody tr th:only-of-type {\n",
       "        vertical-align: middle;\n",
       "    }\n",
       "\n",
       "    .dataframe tbody tr th {\n",
       "        vertical-align: top;\n",
       "    }\n",
       "\n",
       "    .dataframe thead th {\n",
       "        text-align: right;\n",
       "    }\n",
       "</style>\n",
       "<table border=\"1\" class=\"dataframe\">\n",
       "  <thead>\n",
       "    <tr style=\"text-align: right;\">\n",
       "      <th></th>\n",
       "      <th>consumption</th>\n",
       "    </tr>\n",
       "    <tr>\n",
       "      <th>day</th>\n",
       "      <th></th>\n",
       "    </tr>\n",
       "  </thead>\n",
       "  <tbody>\n",
       "    <tr>\n",
       "      <th>2014-01-12</th>\n",
       "      <td>9.6580</td>\n",
       "    </tr>\n",
       "    <tr>\n",
       "      <th>2014-01-13</th>\n",
       "      <td>8.6250</td>\n",
       "    </tr>\n",
       "    <tr>\n",
       "      <th>2014-01-14</th>\n",
       "      <td>8.5080</td>\n",
       "    </tr>\n",
       "    <tr>\n",
       "      <th>2014-01-15</th>\n",
       "      <td>8.5770</td>\n",
       "    </tr>\n",
       "    <tr>\n",
       "      <th>2014-01-16</th>\n",
       "      <td>8.4920</td>\n",
       "    </tr>\n",
       "    <tr>\n",
       "      <th>2014-01-17</th>\n",
       "      <td>8.4990</td>\n",
       "    </tr>\n",
       "    <tr>\n",
       "      <th>2014-01-18</th>\n",
       "      <td>8.8450</td>\n",
       "    </tr>\n",
       "    <tr>\n",
       "      <th>2014-01-19</th>\n",
       "      <td>8.3540</td>\n",
       "    </tr>\n",
       "    <tr>\n",
       "      <th>2014-01-20</th>\n",
       "      <td>8.6330</td>\n",
       "    </tr>\n",
       "    <tr>\n",
       "      <th>2014-01-21</th>\n",
       "      <td>8.6110</td>\n",
       "    </tr>\n",
       "    <tr>\n",
       "      <th>2014-01-22</th>\n",
       "      <td>8.4700</td>\n",
       "    </tr>\n",
       "    <tr>\n",
       "      <th>2014-01-23</th>\n",
       "      <td>8.6210</td>\n",
       "    </tr>\n",
       "    <tr>\n",
       "      <th>2014-01-24</th>\n",
       "      <td>8.5580</td>\n",
       "    </tr>\n",
       "    <tr>\n",
       "      <th>2014-01-25</th>\n",
       "      <td>8.9015</td>\n",
       "    </tr>\n",
       "    <tr>\n",
       "      <th>2014-01-26</th>\n",
       "      <td>9.8210</td>\n",
       "    </tr>\n",
       "    <tr>\n",
       "      <th>2014-01-27</th>\n",
       "      <td>8.8905</td>\n",
       "    </tr>\n",
       "    <tr>\n",
       "      <th>2014-01-28</th>\n",
       "      <td>8.5395</td>\n",
       "    </tr>\n",
       "    <tr>\n",
       "      <th>2014-01-29</th>\n",
       "      <td>8.8530</td>\n",
       "    </tr>\n",
       "    <tr>\n",
       "      <th>2014-01-30</th>\n",
       "      <td>8.7780</td>\n",
       "    </tr>\n",
       "    <tr>\n",
       "      <th>2014-01-31</th>\n",
       "      <td>8.8000</td>\n",
       "    </tr>\n",
       "  </tbody>\n",
       "</table>\n",
       "</div>"
      ],
      "text/plain": [
       "            consumption\n",
       "day                    \n",
       "2014-01-12       9.6580\n",
       "2014-01-13       8.6250\n",
       "2014-01-14       8.5080\n",
       "2014-01-15       8.5770\n",
       "2014-01-16       8.4920\n",
       "2014-01-17       8.4990\n",
       "2014-01-18       8.8450\n",
       "2014-01-19       8.3540\n",
       "2014-01-20       8.6330\n",
       "2014-01-21       8.6110\n",
       "2014-01-22       8.4700\n",
       "2014-01-23       8.6210\n",
       "2014-01-24       8.5580\n",
       "2014-01-25       8.9015\n",
       "2014-01-26       9.8210\n",
       "2014-01-27       8.8905\n",
       "2014-01-28       8.5395\n",
       "2014-01-29       8.8530\n",
       "2014-01-30       8.7780\n",
       "2014-01-31       8.8000"
      ]
     },
     "execution_count": 36,
     "metadata": {},
     "output_type": "execute_result"
    }
   ],
   "source": [
    "ts.iloc[-20:,:]"
   ]
  },
  {
   "cell_type": "code",
   "execution_count": 40,
   "metadata": {},
   "outputs": [
    {
     "name": "stderr",
     "output_type": "stream",
     "text": [
      "C:\\Programs\\Miniconda3\\envs\\ADS04\\lib\\site-packages\\statsmodels\\tsa\\base\\tsa_model.py:162: ValueWarning: No frequency information was provided, so inferred frequency D will be used.\n",
      "  % freq, ValueWarning)\n",
      "C:\\Programs\\Miniconda3\\envs\\ADS04\\lib\\site-packages\\statsmodels\\base\\model.py:568: ConvergenceWarning: Maximum Likelihood optimization failed to converge. Check mle_retvals\n",
      "  \"Check mle_retvals\", ConvergenceWarning)\n"
     ]
    }
   ],
   "source": [
    "p = 3\n",
    "q = 3\n",
    "arma_model = tsa.ARMA(ts, (p, q)).fit()"
   ]
  },
  {
   "cell_type": "code",
   "execution_count": 41,
   "metadata": {},
   "outputs": [],
   "source": [
    "predict_arma = arma_model.predict(start=ts_eval.index[0], end= ts_eval.index[-1])"
   ]
  },
  {
   "cell_type": "code",
   "execution_count": 47,
   "metadata": {},
   "outputs": [],
   "source": [
    "from fbprophet import Prophet\n",
    "\n",
    "# It also expects these columns to have the names 'ds' and 'y', so we rename them accordingly\n",
    "\n",
    "ts_a = ts.reset_index().rename(columns={'day': 'ds', 'consumption': 'y'})\n"
   ]
  },
  {
   "cell_type": "code",
   "execution_count": 50,
   "metadata": {},
   "outputs": [
    {
     "name": "stderr",
     "output_type": "stream",
     "text": [
      "INFO:fbprophet:Disabling daily seasonality. Run prophet with daily_seasonality=True to override this.\n"
     ]
    },
    {
     "data": {
      "text/plain": [
       "<fbprophet.forecaster.Prophet at 0x2966655fda0>"
      ]
     },
     "execution_count": 50,
     "metadata": {},
     "output_type": "execute_result"
    }
   ],
   "source": [
    "forecast_model = Prophet( growth='linear',  weekly_seasonality=5, yearly_seasonality=5)\n",
    "forecast_model.fit(ts_a)"
   ]
  },
  {
   "cell_type": "code",
   "execution_count": 53,
   "metadata": {},
   "outputs": [
    {
     "name": "stderr",
     "output_type": "stream",
     "text": [
      "WARNING:matplotlib.legend:No handles with labels found to put in legend.\n"
     ]
    },
    {
     "data": {
      "image/png": "[encoded data removed]",
      "text/plain": [
       "<Figure size 720x432 with 1 Axes>"
      ]
     },
     "execution_count": 53,
     "metadata": {},
     "output_type": "execute_result"
    },
    {
     "data": {
      "image/png": "[encoded data removed]",
      "text/plain": [
       "<Figure size 720x432 with 1 Axes>"
      ]
     },
     "metadata": {},
     "output_type": "display_data"
    }
   ],
   "source": [
    "# we can now study the fit of the model - in order to do so, we need to creat another df\n",
    "ts_eval_a = ts_eval.reset_index().rename(columns={'day': 'ds', 'consumption': 'y'})\n",
    "\n",
    "model_predictions = forecast_model.predict( ts_eval_a )\n",
    "plot_pred = forecast_model.plot( model_predictions )\n",
    "plt.legend(loc='best', fontsize=20)\n",
    "plot_pred"
   ]
  },
  {
   "cell_type": "code",
   "execution_count": 57,
   "metadata": {},
   "outputs": [
    {
     "data": {
      "text/plain": [
       "0     8.957803\n",
       "1     9.371032\n",
       "2     8.791484\n",
       "3     8.676944\n",
       "4     8.601078\n",
       "5     8.561397\n",
       "6     8.581283\n",
       "7     8.854112\n",
       "8     9.261290\n",
       "9     8.675608\n",
       "10    8.554867\n",
       "11    8.472751\n",
       "12    8.426790\n",
       "13    8.440387\n",
       "14    8.706937\n",
       "15    9.107867\n",
       "16    8.515989\n",
       "17    8.389122\n",
       "18    8.300973\n",
       "19    8.249092\n",
       "20    8.256900\n",
       "21    8.517815\n",
       "22    8.913280\n",
       "23    8.316125\n",
       "24    8.184188\n",
       "25    8.091191\n",
       "26    8.034701\n",
       "Name: yhat, dtype: float64"
      ]
     },
     "execution_count": 57,
     "metadata": {},
     "output_type": "execute_result"
    }
   ],
   "source": [
    "model_predictions['yhat']"
   ]
  },
  {
   "cell_type": "code",
   "execution_count": 65,
   "metadata": {},
   "outputs": [
    {
     "name": "stderr",
     "output_type": "stream",
     "text": [
      "C:\\Programs\\Miniconda3\\envs\\ADS04\\lib\\site-packages\\ipykernel_launcher.py:2: SettingWithCopyWarning: \n",
      "A value is trying to be set on a copy of a slice from a DataFrame.\n",
      "Try using .loc[row_indexer,col_indexer] = value instead\n",
      "\n",
      "See the caveats in the documentation: https://pandas.pydata.org/pandas-docs/stable/user_guide/indexing.html#returning-a-view-versus-a-copy\n",
      "  \n",
      "C:\\Programs\\Miniconda3\\envs\\ADS04\\lib\\site-packages\\pandas\\core\\frame.py:3997: SettingWithCopyWarning: \n",
      "A value is trying to be set on a copy of a slice from a DataFrame\n",
      "\n",
      "See the caveats in the documentation: https://pandas.pydata.org/pandas-docs/stable/user_guide/indexing.html#returning-a-view-versus-a-copy\n",
      "  errors=errors,\n"
     ]
    }
   ],
   "source": [
    "y_predict_p = model_predictions[['ds','yhat']] \n",
    "y_predict_p['day'] = y_predict_p['ds']\n",
    "y_predict_p.set_index(pd.to_datetime(y_predict_p.day), inplace=True)\n",
    "y_predict_p.drop(['day','ds'],axis=1, inplace=True)"
   ]
  },
  {
   "cell_type": "code",
   "execution_count": 72,
   "metadata": {},
   "outputs": [
    {
     "data": {
      "text/plain": [
       "day\n",
       "2014-02-01    8.957803\n",
       "2014-02-02    9.371032\n",
       "2014-02-03    8.791484\n",
       "2014-02-04    8.676944\n",
       "2014-02-05    8.601078\n",
       "2014-02-06    8.561397\n",
       "2014-02-07    8.581283\n",
       "2014-02-08    8.854112\n",
       "2014-02-09    9.261290\n",
       "2014-02-10    8.675608\n",
       "2014-02-11    8.554867\n",
       "2014-02-12    8.472751\n",
       "2014-02-13    8.426790\n",
       "2014-02-14    8.440387\n",
       "2014-02-15    8.706937\n",
       "2014-02-16    9.107867\n",
       "2014-02-17    8.515989\n",
       "2014-02-18    8.389122\n",
       "2014-02-19    8.300973\n",
       "2014-02-20    8.249092\n",
       "2014-02-21    8.256900\n",
       "2014-02-22    8.517815\n",
       "2014-02-23    8.913280\n",
       "2014-02-24    8.316125\n",
       "2014-02-25    8.184188\n",
       "2014-02-26    8.091191\n",
       "2014-02-27    8.034701\n",
       "Name: yhat, dtype: float64"
      ]
     },
     "execution_count": 72,
     "metadata": {},
     "output_type": "execute_result"
    }
   ],
   "source": [
    "y_predict_p['yhat']"
   ]
  },
  {
   "cell_type": "code",
   "execution_count": 67,
   "metadata": {},
   "outputs": [
    {
     "data": {
      "image/png": "[encoded data removed]",
      "text/plain": [
       "<Figure size 864x288 with 1 Axes>"
      ]
     },
     "metadata": {
      "needs_background": "light"
     },
     "output_type": "display_data"
    }
   ],
   "source": [
    "plt.figure(figsize=(12, 4))\n",
    "plt.plot(ts.iloc[-20:,:], '-o', label='true')\n",
    "plt.plot(predict_ar, '-o', label='AR')\n",
    "plt.plot(predict_arma, '-o', label='ARMA')\n",
    "plt.plot(y_predict_p, '-o', label='prophet')\n",
    "plt.legend();"
   ]
  },
  {
   "cell_type": "code",
   "execution_count": 68,
   "metadata": {},
   "outputs": [
    {
     "data": {
      "text/plain": [
       "dtype('float64')"
      ]
     },
     "execution_count": 68,
     "metadata": {},
     "output_type": "execute_result"
    }
   ],
   "source": [
    "predict_arma.dtype"
   ]
  },
  {
   "cell_type": "code",
   "execution_count": 71,
   "metadata": {},
   "outputs": [
    {
     "data": {
      "text/plain": [
       "pandas.core.series.Series"
      ]
     },
     "execution_count": 71,
     "metadata": {},
     "output_type": "execute_result"
    }
   ],
   "source": [
    "type(predict_arma)"
   ]
  },
  {
   "cell_type": "code",
   "execution_count": null,
   "metadata": {},
   "outputs": [],
   "source": []
  }
 ],
 "metadata": {
  "kernelspec": {
   "display_name": "Python 3",
   "language": "python",
   "name": "python3"
  },
  "language_info": {
   "codemirror_mode": {
    "name": "ipython",
    "version": 3
   },
   "file_extension": ".py",
   "mimetype": "text/x-python",
   "name": "python",
   "nbconvert_exporter": "python",
   "pygments_lexer": "ipython3",
   "version": "3.6.10"
  }
 },
 "nbformat": 4,
 "nbformat_minor": 4
}
